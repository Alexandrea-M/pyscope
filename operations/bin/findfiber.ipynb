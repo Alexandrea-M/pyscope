{
 "cells": [
  {
   "cell_type": "code",
   "execution_count": 14,
   "metadata": {},
   "outputs": [
    {
     "name": "stdout",
     "output_type": "stream",
     "text": [
      "(6.7724913214766564, -16.786383176850237)\n",
      "(6.752472222222222, -16.71611111111111)\n",
      "Launching mount control software...\n",
      "Connecting to mount...\n",
      "(6.839689374393123, -16.788279743134435)\n"
     ]
    }
   ],
   "source": [
    "from win32com.client import Dispatch\n",
    "from datetime import datetime\n",
    "import math\n",
    "import os\n",
    "import time\n",
    "\n",
    "from iotalib import convert\n",
    "\n",
    "import ephem\n",
    "### CONFIGURATION VALUES ########################\n",
    "CENTER_J2000_RA_HOURS = \"6h45m8.9s\"  # RA coordinates at the center of the grid, in J2000 hours\n",
    "CENTER_J2000_DEC_DEGS = \"-16:42:58\"  # Dec coordinates at the center of the grid, in J2000 degrees\n",
    "\n",
    "ra='6h45m27s' \n",
    "dec='-16d45m40s'\n",
    "testra = convert.from_dms(ra)\n",
    "testdec = convert.from_dms(dec)\n",
    "test_ra_jnow_hours, test_dec_jnow_degs = convert.j2000_to_jnow(testra, testdec)\n",
    "print(test_ra_jnow_hours,test_dec_jnow_degs)\n",
    "\n",
    "j2000ra = convert.from_dms(CENTER_J2000_RA_HOURS)\n",
    "j2000dec = convert.from_dms(CENTER_J2000_DEC_DEGS)\n",
    "\n",
    "raoff = 0.07221264 \n",
    "decoff = -0.04501367\n",
    "\n",
    "print(j2000ra,j2000dec)\n",
    "\n",
    "target_ra_j2000_hours = j2000ra + raoff\n",
    "target_dec_j2000_degs = j2000dec + decoff\n",
    "\n",
    "MOUNT_DRIVER = \"SiTech.Telescope\" # Use this for the SiTech-controlled Mathis fork mount at Winer Observatory\n",
    "\n",
    "print \"Launching mount control software...\"\n",
    "#mount = Dispatch(MOUNT_DRIVER)\n",
    "\n",
    "print \"Connecting to mount...\"\n",
    "#mount.Connected = True\n",
    "\n",
    "\n",
    "\n",
    "target_ra_jnow_hours, target_dec_jnow_degs = convert.j2000_to_jnow(target_ra_j2000_hours, target_dec_j2000_degs)\n",
    "print(target_ra_jnow_hours,target_dec_jnow_degs)\n",
    "#mount.SlewToCoordinates(target_ra_jnow_hours, target_dec_jnow_degs)\n"
   ]
  },
  {
   "cell_type": "code",
   "execution_count": null,
   "metadata": {},
   "outputs": [],
   "source": []
  }
 ],
 "metadata": {
  "kernelspec": {
   "display_name": "Python 3",
   "language": "python",
   "name": "python3"
  },
  "language_info": {
   "codemirror_mode": {
    "name": "ipython",
    "version": 3
   },
   "file_extension": ".py",
   "mimetype": "text/x-python",
   "name": "python",
   "nbconvert_exporter": "python",
   "pygments_lexer": "ipython3",
   "version": "3.7.4"
  }
 },
 "nbformat": 4,
 "nbformat_minor": 2
}
