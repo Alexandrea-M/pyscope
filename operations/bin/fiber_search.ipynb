{
 "cells": [
  {
   "attachments": {},
   "cell_type": "markdown",
   "metadata": {},
   "source": [
    "Imports"
   ]
  },
  {
   "cell_type": "code",
   "execution_count": null,
   "metadata": {},
   "outputs": [],
   "source": [
    "# from win32com.client import Dispatch\n",
    "from astropy import coordinates as coord, time\n",
    "import matplotlib.pyplot as plt\n",
    "import numpy as np\n",
    "from ipywidgets import Button\n",
    "from IPython.display import display, clear_output\n",
    "\n",
    "# Constants\n",
    "meter = 1\n",
    "millimeter = 1e-3 * meter\n",
    "micron = 1e-6 * meter\n",
    "deg = np.pi / 180\n",
    "arcsec = deg / 3600\n",
    "hourangle = deg * 15\n",
    "secangle = hourangle / 3600\n",
    "\n",
    "# Telescope parameters\n",
    "plate_scale = 1 / (2939 * millimeter)\n",
    "pixel = 9 * micron"
   ]
  },
  {
   "attachments": {},
   "cell_type": "markdown",
   "metadata": {},
   "source": [
    "Connect to mount"
   ]
  },
  {
   "cell_type": "code",
   "execution_count": null,
   "metadata": {},
   "outputs": [],
   "source": [
    "telescope = Dispatch(\"ASCOM.PWI4.Telescope\")\n",
    "telescope.Connected = True\n",
    "\n",
    "print('Coordinate system: %s' % telescope.EquatorialSystem)"
   ]
  },
  {
   "attachments": {},
   "cell_type": "markdown",
   "metadata": {},
   "source": [
    "Slew to source and iterate offsets to center it"
   ]
  },
  {
   "cell_type": "code",
   "execution_count": null,
   "metadata": {},
   "outputs": [],
   "source": [
    "object_name = 'Arcturus'\n",
    "ra_offset = 1458 * pixel * plate_scale\n",
    "dec_offset = -805 * pixel * plate_scale\n",
    "\n",
    "obj = coord.SkyCoord.from_name(object_name)\n",
    "obj_now = obj.transform_to(coord.TETE(obstime=time.Time.now(), location=coord.EarthLocation.from_geodetic(lat=41.6620165, lon=-91.5325033)))\n",
    "# telescope.SlewToCoordinates(obj_now.ra.hour + ra_offset/hourangle, obj_now.dec.deg + dec_offset/deg)\n",
    "# telescope.Tracking = True\n",
    "\n",
    "print('Object ICRS coordinates: %s' % obj.to_string('hmsdms'))\n",
    "print('Slew coordinates: %s' % obj_now.to_string('hmsdms'))"
   ]
  },
  {
   "attachments": {},
   "cell_type": "markdown",
   "metadata": {},
   "source": [
    "Compute the initial search grid from the geometry of the fiber location"
   ]
  },
  {
   "cell_type": "code",
   "execution_count": null,
   "metadata": {},
   "outputs": [],
   "source": [
    "D = 28.047 * millimeter # 27.2 from my drawing\n",
    "theta = (26.889+90) * deg\n",
    "\n",
    "# Guess nominal ra and dec from above geometry\n",
    "nominal_dec = -D * np.sin(theta) * plate_scale\n",
    "nominal_ra = D * np.cos(theta) * plate_scale / np.cos(obj.dec.rad)\n",
    "print('Nominal deltaRA = %.2f arcsec' % (nominal_ra / arcsec))\n",
    "print('Nominal deltaDec = %.2f arcsec' % (nominal_dec / arcsec))\n",
    "\n",
    "# Generate grid of deltaRA and deltaDec\n",
    "delta_ras = np.linspace(-300, 300, 7, endpoint=True) * arcsec\n",
    "delta_decs = np.linspace(-300, 300, 7, endpoint=True) * arcsec\n",
    "x, y = np.meshgrid(delta_ras, delta_decs)\n",
    "xrot = np.zeros(x.shape); yrot = np.zeros(y.shape)\n",
    "for i in range(len(x)):\n",
    "        for j in range(len(y)):\n",
    "            xrot[i,j], yrot[i,j] = np.dot([[np.cos(theta), np.sin(theta)], [-np.sin(theta), np.cos(theta)]], np.array([x[i,j], y[i,j]]))\n",
    "delta_ras = xrot.flatten(); delta_decs = yrot.flatten()\n",
    "\n",
    "# Plot grid\n",
    "fig,ax = plt.subplots(figsize=(6,6))\n",
    "ax.grid(); ax.set_axisbelow(True)\n",
    "ax.scatter((delta_ras+nominal_ra)/arcsec, (delta_decs+nominal_dec)/arcsec, c=range(len(delta_ras)), cmap='jet_r')\n",
    "for i in range(len(delta_ras)):\n",
    "    ax.annotate(str(i+1), ((delta_ras[i]+nominal_ra)/arcsec, (delta_decs[i]+nominal_dec)/arcsec), textcoords='offset points',\n",
    "    xytext=(0, 6))\n",
    "ax.set_xlabel('deltaRA (arcsec)')\n",
    "ax.set_ylabel('deltaDec (arcsec)')\n",
    "for i in range(len(delta_ras)):\n",
    "    circle = plt.Circle(((nominal_ra+delta_ras[i])/arcsec, (nominal_dec+delta_decs[i])/arcsec), \n",
    "        70, color='r', fill=False); ax.add_artist(circle)\n",
    "    circle = plt.Circle(((nominal_ra+delta_ras[i])/arcsec, (nominal_dec+delta_decs[i])/arcsec),\n",
    "        70/4, color='b', fill=False); ax.add_artist(circle)\n",
    "plt.show()"
   ]
  },
  {
   "attachments": {},
   "cell_type": "markdown",
   "metadata": {},
   "source": [
    "Attempt an initial slew to the nominal guess"
   ]
  },
  {
   "cell_type": "code",
   "execution_count": null,
   "metadata": {},
   "outputs": [],
   "source": [
    "telescope.SlewToCoordinates(obj_now.ra.hour + ra_offset/hourangle + nominal_ra/hourangle, \n",
    "    obj_now.dec.deg + dec_offset/deg + nominal_dec/deg)"
   ]
  },
  {
   "attachments": {},
   "cell_type": "markdown",
   "metadata": {},
   "source": [
    "Grid search"
   ]
  },
  {
   "cell_type": "code",
   "execution_count": null,
   "metadata": {},
   "outputs": [],
   "source": [
    "print('Object Coordinates: %s\\n\\n' % obj_now.to_string('hmsdms'))\n",
    "\n",
    "for i in range(len(delta_coords)):\n",
    "    print('Coordinate Pair %i/%i' % ((i+1), len(delta_coords)))\n",
    "    print('deltaRA     =     %.2f arcsec,  deltaDec = %.2f arcsec' % ((delta_coords[i][0] + nominal_ra) / arcsec, (delta_coords[i][1] + nominal_dec) / arcsec))\n",
    "    print('Slew Coordinates: %s\\n' % coord.SkyCoord(obj.ra.hour + delta_ras[i]/hourangle, obj.dec.deg + delta_decs[i]/deg, unit=('hour', 'deg')).to_string('hmsdms'))\n",
    "    telescope.SlewToCoordinates(obj_now.ra.hour + ra_offset/hourangle + nominal_ra/hourangle + delta_coords[i][0]/hourangle, obj_now.dec.deg + dec_offset/deg + nominal_dec/deg + delta_coords[i][1]/deg)\n",
    "    input('Press Enter to continue...\\n')"
   ]
  },
  {
   "attachments": {},
   "cell_type": "markdown",
   "metadata": {},
   "source": [
    "Coordinate Pair 27/49\n",
    "deltaRA     =     -1033.02 arcsec,  deltaDec = -1933.96 arcsec\n",
    "Slew Coordinates: 14h15m33.64189096s +19d07m58.29610832s"
   ]
  },
  {
   "attachments": {},
   "cell_type": "markdown",
   "metadata": {},
   "source": [
    "Slew to best position"
   ]
  },
  {
   "cell_type": "code",
   "execution_count": null,
   "metadata": {},
   "outputs": [],
   "source": [
    "best_position = 27\n",
    "print('Best position: %i' % best_position)\n",
    "print('deltaRA = %.2f arcsec, deltaDec = %.2f arcsec' % ((delta_ras[best_position-1] + nominal_ra) / arcsec, (delta_decs[best_position-1] + nominal_dec) / arcsec))\n",
    "\n",
    "telescope.SlewToCoordinates(obj_now.ra.hour + ra_offset/hourangle + delta_ras[best_position-1]/hourangle, obj_now.dec.deg + dec_offset/deg + delta_decs[best_position-1]/deg)"
   ]
  },
  {
   "attachments": {},
   "cell_type": "markdown",
   "metadata": {},
   "source": [
    "Generate new grid around best position"
   ]
  },
  {
   "cell_type": "code",
   "execution_count": null,
   "metadata": {},
   "outputs": [],
   "source": [
    "# Set nominal position to best fit from above grid\n",
    "nominal_ra = delta_ras[best_position-1] + nominal_ra\n",
    "nominal_dec = delta_decs[best_position-1] + nominal_dec\n",
    "print('Nominal deltaRA = %.2f arcsec' % (nominal_ra / arcsec))\n",
    "print('Nominal deltaDec = %.2f arcsec' % (nominal_dec / arcsec))\n",
    "\n",
    "# Generate grid of deltaRA and deltaDec\n",
    "delta_ras = np.linspace(-60, 60, 7, endpoint=True) * arcsec\n",
    "delta_decs = np.linspace(-60, 60, 7, endpoint=True) * arcsec\n",
    "x, y = np.meshgrid(delta_ras, delta_decs)\n",
    "xrot = np.zeros(x.shape); yrot = np.zeros(y.shape)\n",
    "for i in range(len(x)):\n",
    "        for j in range(len(y)):\n",
    "            xrot[i,j], yrot[i,j] = np.dot([[np.cos(theta), np.sin(theta)], [-np.sin(theta), np.cos(theta)]], np.array([x[i,j], y[i,j]]))\n",
    "delta_ras = xrot.flatten(); delta_decs = yrot.flatten()\n",
    "\n",
    "# Plot grid\n",
    "fig,ax = plt.subplots(figsize=(6,6))\n",
    "ax.grid(); ax.set_axisbelow(True)\n",
    "ax.scatter((delta_ras+nominal_ra)/arcsec, (delta_decs+nominal_dec)/arcsec, c=range(len(delta_ras)), cmap='jet_r')\n",
    "for i in range(len(delta_ras)):\n",
    "    ax.annotate(str(i+1), ((delta_ras[i]+nominal_ra)/arcsec, (delta_decs[i]+nominal_dec)/arcsec), textcoords='offset points',\n",
    "    xytext=(0, 6))\n",
    "ax.set_xlabel('deltaRA (arcsec)')\n",
    "ax.set_ylabel('deltaDec (arcsec)')\n",
    "for i in range(len(delta_ras)):\n",
    "    '''circle = plt.Circle(((nominal_ra+delta_ras[i])/arcsec, (nominal_dec+delta_decs[i])/arcsec), \n",
    "        70, color='r', fill=False); ax.add_artist(circle)'''\n",
    "    circle = plt.Circle(((nominal_ra+delta_ras[i])/arcsec, (nominal_dec+delta_decs[i])/arcsec),\n",
    "        70/4, color='b', fill=False); ax.add_artist(circle)\n",
    "plt.show()"
   ]
  },
  {
   "attachments": {},
   "cell_type": "markdown",
   "metadata": {},
   "source": [
    "Attempt an initial slew to the nominal guess"
   ]
  },
  {
   "cell_type": "code",
   "execution_count": null,
   "metadata": {},
   "outputs": [],
   "source": [
    "telescope.SlewToCoordinates(obj_now.ra.hour + ra_offset/hourangle + nominal_ra/hourangle, \n",
    "    obj_now.dec.deg + dec_offset/deg + nominal_dec/deg)"
   ]
  },
  {
   "attachments": {},
   "cell_type": "markdown",
   "metadata": {},
   "source": [
    "Grid search"
   ]
  },
  {
   "cell_type": "code",
   "execution_count": null,
   "metadata": {},
   "outputs": [],
   "source": [
    "print('Object Coordinates: %s\\n\\n' % obj_now.to_string('hmsdms'))\n",
    "\n",
    "for i in range(len(delta_coords)):\n",
    "    print('Coordinate Pair %i/%i' % ((i+1), len(delta_coords)))\n",
    "    print('deltaRA     =     %.2f arcsec,  deltaDec = %.2f arcsec' % ((delta_coords[i][0] + nominal_ra) / arcsec, (delta_coords[i][1] + nominal_dec) / arcsec))\n",
    "    print('Slew Coordinates: %s\\n' % coord.SkyCoord(obj.ra.hour + delta_ras[i]/hourangle, obj.dec.deg + delta_decs[i]/deg, unit=('hour', 'deg')).to_string('hmsdms'))\n",
    "    telescope.SlewToCoordinates(obj_now.ra.hour + ra_offset/hourangle + nominal_ra/hourangle + delta_coords[i][0]/hourangle, obj_now.dec.deg + dec_offset/deg + nominal_dec/deg + delta_coords[i][1]/deg)\n",
    "    input('Press Enter to continue...\\n')"
   ]
  },
  {
   "attachments": {},
   "cell_type": "markdown",
   "metadata": {},
   "source": [
    "Slew to best position"
   ]
  },
  {
   "cell_type": "code",
   "execution_count": null,
   "metadata": {},
   "outputs": [],
   "source": [
    "best_position = 23\n",
    "print('Best position: %i' % best_position)\n",
    "print('deltaRA = %.2f arcsec, deltaDec = %.2f arcsec' % ((delta_ras[best_position-1] + nominal_ra) / arcsec, (delta_decs[best_position-1] + nominal_dec) / arcsec))\n",
    "\n",
    "telescope.SlewToCoordinates(obj_now.ra.hour + ra_offset/hourangle + delta_ras[best_position-1]/hourangle, obj_now.dec.deg + dec_offset/deg + delta_decs[best_position-1]/deg)"
   ]
  },
  {
   "cell_type": "code",
   "execution_count": null,
   "metadata": {},
   "outputs": [],
   "source": [
    "# Make a button to get next coordinate pair and slew telescope to those coordinates\n",
    "coord_index = 0\n",
    "\n",
    "button = Button(description='Next Coordinate Pair')\n",
    "display(button)\n",
    "print('Object Coordinates: %s\\n\\n' % obj.to_string('hmsdms'))\n",
    "\n",
    "def on_button_clicked(b):\n",
    "    global coord_index\n",
    "\n",
    "    clear_output()\n",
    "    display(button)\n",
    "    print('Object Coordinates: %s\\n\\n' % obj.to_string('hmsdms'))\n",
    "    print('Coordinate Pair %i/%i' % ((coord_index+1), len(delta_coords)))\n",
    "    print('deltaRA     =     %.2f sec,  deltaDec = %.2f arcsec' % (delta_coords[coord_index][0] / secangle, delta_coords[coord_index][1] / arcsec))\n",
    "    print('Slew Coordinates: %s\\n' % coord.SkyCoord(obj.ra.hour + delta_coords[coord_index][0]/hourangle, obj.dec.deg + delta_coords[coord_index][1]/deg, unit=('hour', 'deg')).to_string('hmsdms'))\n",
    "    telescope.SlewToCoordinates(obj_now.ra.hour + ra_offset/hourangle + delta_coords[coord_index][0]/hourangle, obj_now.dec.deg + dec_offset/deg + delta_coords[coord_index][1]/deg)\n",
    "    coord_index += 1\n",
    "\n",
    "button.on_click(on_button_clicked)\n",
    "\n"
   ]
  }
 ],
 "metadata": {
  "kernelspec": {
   "display_name": "base",
   "language": "python",
   "name": "python3"
  },
  "language_info": {
   "codemirror_mode": {
    "name": "ipython",
    "version": 3
   },
   "file_extension": ".py",
   "mimetype": "text/x-python",
   "name": "python",
   "nbconvert_exporter": "python",
   "pygments_lexer": "ipython3",
   "version": "3.10.6"
  },
  "orig_nbformat": 4
 },
 "nbformat": 4,
 "nbformat_minor": 2
}
