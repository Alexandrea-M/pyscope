{
 "cells": [
  {
   "cell_type": "code",
   "execution_count": null,
   "metadata": {},
   "outputs": [],
   "source": [
    "from win32com.client import Dispatch\n",
    "import time\n",
    "import numpy as np\n",
    "from pyScope.operations.bin import pulsar_dimmer"
   ]
  },
  {
   "cell_type": "code",
   "execution_count": null,
   "metadata": {},
   "outputs": [],
   "source": [
    "maxim = Dispatch(\"MaxIm.Application\")\n",
    "maxim.LockApp = True"
   ]
  },
  {
   "cell_type": "code",
   "execution_count": null,
   "metadata": {},
   "outputs": [],
   "source": [
    "camera = Dispatch(\"MaxIm.CCDCamera\")\n",
    "camera.DisableAutoShutdown = True\n",
    "camera.LinkEnabled = True\n",
    "print('Camera connected: %s' % camera.CameraName); print()\n",
    "\n",
    "readouts = camera.ReadoutModes\n",
    "for i in range(len(readouts)):\n",
    "    print('Mode %d: %s' % (i, readouts[i]))\n",
    "print()\n",
    "filter_names = camera.FilterNames\n",
    "for i in range(len(filter_names)):\n",
    "    print('Filter %d: %s' % (i, filter_names[i]))"
   ]
  },
  {
   "cell_type": "code",
   "execution_count": null,
   "id": "b9820715",
   "metadata": {},
   "outputs": [],
   "source": [
    "mount = Dispatch('SiTech.Telescope')\n",
    "print('Homing')\n",
    "mount.FindHome\n",
    "mount.Tracking = False\n",
    "print('Home found')\n",
    "\n",
    "print('Slewing')\n",
    "mount.SlewToAltAz(86.96717, 30.09397)\n",
    "print('Slew complete')\n",
    "mount.Tracking = False\n",
    "\n",
    "print('Setting lights')\n",
    "pulsar_dimmer.dimmer(254)\n",
    "print('Lights set')"
   ]
  },
  {
   "cell_type": "code",
   "execution_count": null,
   "metadata": {},
   "outputs": [],
   "source": [
    "save_loc = 'D:/Calibrations/2023-02-06 11_10_10/'\n",
    "readoutLoop = [1]\n",
    "binLoop = [1]\n",
    "exposureLoop = [10]\n",
    "filLoop = [6]\n",
    "light = [1]; im_type = {0:'dark', 1:'flat'}\n",
    "repeat = 25 # number of images per option\n",
    "estimatedTime = len(readoutLoop)*len(binLoop)*len(filLoop)*len(light)*repeat*sum(exposureLoop)/(60*60)\n",
    "print('Estimated time to complete: %.2f hours' % estimatedTime)"
   ]
  },
  {
   "cell_type": "code",
   "execution_count": null,
   "metadata": {
    "scrolled": true
   },
   "outputs": [],
   "source": [
    "for fil in filLoop:\n",
    "    for shutter in light:\n",
    "        for binning in binLoop:\n",
    "            camera.BinX = binning\n",
    "            for readout in readoutLoop:\n",
    "                camera.ReadoutMode = readout\n",
    "                for exp in exposureLoop:\n",
    "                    for i in range(repeat):\n",
    "                        while camera.Temperature > -19:\n",
    "                            print('Waiting for temperature cooldown...')\n",
    "                            time.sleep(10)\n",
    "                        camera.Expose(exp, shutter, fil)\n",
    "                        # savestring = save_loc + (im_type[shutter]+'_'+\n",
    "                        #                 camera.ReadoutModes[readout].replace(' ', '')+'_'+\n",
    "                        #                 str(binning)+'x'+str(binning)+'_'+\n",
    "                        #                 camera.Filternames[fil]+'_'+\n",
    "                        #                 str(exp).replace('.', '')+'s__'+\n",
    "                        #                 str(i)+'.fts')\n",
    "                        name = 'Flat_%03d%s.fits' % (i, camera.Filternames[fil])\n",
    "                        savestring = save_loc + name\n",
    "                        while not camera.ImageReady:\n",
    "                            time.sleep(0.1)\n",
    "                        print('Saving: %s' % savestring)\n",
    "                        camera.SaveImage(savestring)\n",
    "\n",
    "print('Turning off lights')\n",
    "pulsar_dimmer.dimmer(0)\n",
    "print('Lights off')\n",
    "\n",
    "print('Homing')\n",
    "mount.FindHome\n",
    "mount.Tracking = False\n",
    "print('Home found')"
   ]
  },
  {
   "cell_type": "code",
   "execution_count": null,
   "id": "274ab26b",
   "metadata": {},
   "outputs": [],
   "source": []
  }
 ],
 "metadata": {
  "kernelspec": {
   "display_name": "base",
   "language": "python",
   "name": "python3"
  },
  "language_info": {
   "codemirror_mode": {
    "name": "ipython",
    "version": 3
   },
   "file_extension": ".py",
   "mimetype": "text/x-python",
   "name": "python",
   "nbconvert_exporter": "python",
   "pygments_lexer": "ipython3",
   "version": "3.10.6"
  },
  "vscode": {
   "interpreter": {
    "hash": "aeab614228c9c50e6dff8d3934f938ee9a9784ab364a776ce5c4cfe6843a8b17"
   }
  }
 },
 "nbformat": 4,
 "nbformat_minor": 5
}
