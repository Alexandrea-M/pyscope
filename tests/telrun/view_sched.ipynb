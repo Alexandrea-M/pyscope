{
 "cells": [
  {
   "cell_type": "code",
   "execution_count": 6,
   "metadata": {},
   "outputs": [
    {
     "data": {
      "text/html": [
       "<i>Table length=3</i>\n",
       "<table id=\"table4526921424-925500\" class=\"table-striped table-bordered table-condensed\">\n",
       "<thead><tr><th>idx</th><th>ID</th><th>name</th><th>start_time</th><th>end_time</th><th>target</th><th>priority</th><th>observer</th><th>code</th><th>title</th><th>filename</th><th>type</th><th>backend</th><th>filter</th><th>exposure</th><th>nexp</th><th>repositioning</th><th>shutter_state</th><th>readout</th><th>binning</th><th>frame_position</th><th>frame_size</th><th>pm_ra_cosdec</th><th>pm_dec</th><th>comment</th><th>sch</th><th>status</th><th>message</th><th>sched_time</th><th>constraints</th></tr></thead>\n",
       "<thead><tr><th></th><th></th><th></th><th></th><th></th><th>deg,deg</th><th></th><th></th><th></th><th></th><th></th><th></th><th></th><th></th><th></th><th></th><th></th><th></th><th></th><th></th><th></th><th></th><th></th><th></th><th></th><th></th><th></th><th></th><th></th><th></th></tr></thead>\n",
       "<tr><td>0</td><td>60377.86960067589</td><td>Test Obs</td><td>60377.87025592849</td><td>60377.87095037293</td><td>167.047239448375,42.381502777777776</td><td>1</td><td>test_observer</td><td>aaa</td><td>test_obs</td><td>aaa__11h08m11-34s_+42d22m53-410s_2024-03-08T20-53-10</td><td>light</td><td>0</td><td>V</td><td>5.0</td><td>1</td><td>0 .. 0</td><td>True</td><td>0</td><td>1 .. 1</td><td>0 .. 0</td><td>0 .. 0</td><td>0.0</td><td>0.0</td><td>--</td><td>--</td><td>S</td><td>Scheduled</td><td>60377.86959712676</td><td>{&apos;type&apos;: &apos;AtNightConstraint&apos;, &apos;max_solar_altitude&apos;: -12.0} .. {&apos;type&apos;: &apos;AltitudeConstraint&apos;, &apos;min&apos;: 0.0, &apos;max&apos;: 90.0, &apos;boolean_constraint&apos;: True}</td></tr>\n",
       "<tr><td>1</td><td>———</td><td>EmptyBlock</td><td>60377.375</td><td>60377.87025592849</td><td>0.0,-90.0</td><td>--</td><td>--</td><td>--</td><td>--</td><td>--</td><td>--</td><td>--</td><td>--</td><td>--</td><td>--</td><td>-- .. --</td><td>--</td><td>--</td><td>-- .. --</td><td>-- .. --</td><td>-- .. --</td><td>--</td><td>--</td><td>--</td><td>--</td><td>--</td><td>--</td><td>———</td><td>None .. None</td></tr>\n",
       "<tr><td>2</td><td>———</td><td>EmptyBlock</td><td>60377.87095037293</td><td>60378.375</td><td>0.0,-90.0</td><td>--</td><td>--</td><td>--</td><td>--</td><td>--</td><td>--</td><td>--</td><td>--</td><td>--</td><td>--</td><td>-- .. --</td><td>--</td><td>--</td><td>-- .. --</td><td>-- .. --</td><td>-- .. --</td><td>--</td><td>--</td><td>--</td><td>--</td><td>--</td><td>--</td><td>———</td><td>None .. None</td></tr>\n",
       "</table><style>table.dataTable {clear: both; width: auto !important; margin: 0 !important;}\n",
       ".dataTables_info, .dataTables_length, .dataTables_filter, .dataTables_paginate{\n",
       "display: inline-block; margin-right: 1em; }\n",
       ".paginate_button { margin-right: 5px; }\n",
       "</style>\n",
       "<script>\n",
       "\n",
       "var astropy_sort_num = function(a, b) {\n",
       "    var a_num = parseFloat(a);\n",
       "    var b_num = parseFloat(b);\n",
       "\n",
       "    if (isNaN(a_num) && isNaN(b_num))\n",
       "        return ((a < b) ? -1 : ((a > b) ? 1 : 0));\n",
       "    else if (!isNaN(a_num) && !isNaN(b_num))\n",
       "        return ((a_num < b_num) ? -1 : ((a_num > b_num) ? 1 : 0));\n",
       "    else\n",
       "        return isNaN(a_num) ? -1 : 1;\n",
       "}\n",
       "\n",
       "require.config({paths: {\n",
       "    datatables: 'https://cdn.datatables.net/1.10.12/js/jquery.dataTables.min'\n",
       "}});\n",
       "require([\"datatables\"], function(){\n",
       "    console.log(\"$('#table4526921424-925500').dataTable()\");\n",
       "    \n",
       "jQuery.extend( jQuery.fn.dataTableExt.oSort, {\n",
       "    \"optionalnum-asc\": astropy_sort_num,\n",
       "    \"optionalnum-desc\": function (a,b) { return -astropy_sort_num(a, b); }\n",
       "});\n",
       "\n",
       "    $('#table4526921424-925500').dataTable({\n",
       "        order: [],\n",
       "        pageLength: 50,\n",
       "        lengthMenu: [[10, 25, 50, 100, 500, 1000, -1], [10, 25, 50, 100, 500, 1000, 'All']],\n",
       "        pagingType: \"full_numbers\",\n",
       "        columnDefs: [{targets: [0, 6, 14, 15, 16, 18, 19, 20, 21, 22, 23], type: \"optionalnum\"}]\n",
       "    });\n",
       "});\n",
       "</script>\n"
      ],
      "text/plain": [
       "<IPython.core.display.HTML object>"
      ]
     },
     "execution_count": 6,
     "metadata": {},
     "output_type": "execute_result"
    }
   ],
   "source": [
    "from astropy.table import Table\n",
    "t = Table.read(\"../../my_test/schedules/execute/test_schedtel.ecsv\")\n",
    "t.show_in_notebook()"
   ]
  },
  {
   "cell_type": "code",
   "execution_count": null,
   "metadata": {},
   "outputs": [],
   "source": []
  }
 ],
 "metadata": {
  "kernelspec": {
   "display_name": "pyscope-dev",
   "language": "python",
   "name": "python3"
  },
  "language_info": {
   "codemirror_mode": {
    "name": "ipython",
    "version": 3
   },
   "file_extension": ".py",
   "mimetype": "text/x-python",
   "name": "python",
   "nbconvert_exporter": "python",
   "pygments_lexer": "ipython3",
   "version": "3.11.7"
  }
 },
 "nbformat": 4,
 "nbformat_minor": 2
}
