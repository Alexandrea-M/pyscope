{
 "cells": [
  {
   "cell_type": "code",
   "execution_count": 1,
   "metadata": {},
   "outputs": [],
   "source": [
    "from win32com.client import Dispatch\n",
    "import time\n",
    "import numpy as np\n",
    "import pulsar_dimmer"
   ]
  },
  {
   "cell_type": "code",
   "execution_count": 2,
   "metadata": {},
   "outputs": [],
   "source": [
    "maxim = Dispatch(\"MaxIm.Application\")\n",
    "maxim.LockApp = True"
   ]
  },
  {
   "cell_type": "code",
   "execution_count": 3,
   "metadata": {},
   "outputs": [
    {
     "name": "stdout",
     "output_type": "stream",
     "text": [
      "Camera connected: DL Imaging\n",
      "\n",
      "Mode 0: HDR\n",
      "Mode 1: High Gain\n",
      "Mode 2: Low Gain\n",
      "Mode 3: High Gain StackPro\n",
      "\n",
      "Filter 0: L\n",
      "Filter 1: 6\n",
      "Filter 2: V\n",
      "Filter 3: B\n",
      "Filter 4: H\n",
      "Filter 5: W\n",
      "Filter 6: O\n",
      "Filter 7: 1\n",
      "Filter 8: I\n",
      "Filter 9: X\n",
      "Filter 10: G\n",
      "Filter 11: R\n"
     ]
    }
   ],
   "source": [
    "camera = Dispatch(\"MaxIm.CCDCamera\")\n",
    "camera.DisableAutoShutdown = True\n",
    "camera.LinkEnabled = True\n",
    "print('Camera connected: %s' % camera.CameraName); print()\n",
    "\n",
    "readouts = camera.ReadoutModes\n",
    "for i in range(len(readouts)):\n",
    "    print('Mode %d: %s' % (i, readouts[i]))\n",
    "print()\n",
    "filter_names = camera.FilterNames\n",
    "for i in range(len(filter_names)):\n",
    "    print('Filter %d: %s' % (i, filter_names[i]))"
   ]
  },
  {
   "cell_type": "code",
   "execution_count": null,
   "id": "b9820715",
   "metadata": {},
   "outputs": [],
   "source": [
    "mount = Dispatch('SiTech.Telescope')\n",
    "print('Homing')\n",
    "mount.FindHome\n",
    "mount.Tracking = False\n",
    "print('Home found')\n",
    "\n",
    "print('Slewing')\n",
    "mount.SlewToAltAz(86.96717, 30.09397)\n",
    "print('Slew complete')\n",
    "mount.Tracking = False\n",
    "\n",
    "print('Setting lights')\n",
    "pulsar_dimmer.dimmer(254)\n",
    "print('Lights set')"
   ]
  },
  {
   "cell_type": "code",
   "execution_count": 4,
   "metadata": {},
   "outputs": [
    {
     "name": "stdout",
     "output_type": "stream",
     "text": [
      "Estimated time to complete: 6.83 hours\n"
     ]
    }
   ],
   "source": [
    "save_loc = 'D:/Calibrations/Darks_2-6-2023/'\n",
    "readoutLoop = [1, 3]\n",
    "binLoop = [1]\n",
    "exposureLoop = [1024]\n",
    "filLoop = [0]\n",
    "light = [0]; im_type = {0:'dark', 1:'flat'}\n",
    "repeat = 12 # number of images per option\n",
    "estimatedTime = len(readoutLoop)*len(binLoop)*len(filLoop)*len(light)*repeat*sum(exposureLoop)/(60*60)\n",
    "print('Estimated time to complete: %.2f hours' % estimatedTime)"
   ]
  },
  {
   "cell_type": "code",
   "execution_count": 5,
   "metadata": {
    "scrolled": true
   },
   "outputs": [
    {
     "name": "stdout",
     "output_type": "stream",
     "text": [
      "Saving: D:/Calibrations/Darks_2-6-2023/dark_HighGain_1x1_1024s__13.fts\n",
      "Saving: D:/Calibrations/Darks_2-6-2023/dark_HighGain_1x1_1024s__14.fts\n",
      "Saving: D:/Calibrations/Darks_2-6-2023/dark_HighGain_1x1_1024s__15.fts\n",
      "Saving: D:/Calibrations/Darks_2-6-2023/dark_HighGain_1x1_1024s__16.fts\n",
      "Saving: D:/Calibrations/Darks_2-6-2023/dark_HighGain_1x1_1024s__17.fts\n",
      "Saving: D:/Calibrations/Darks_2-6-2023/dark_HighGain_1x1_1024s__18.fts\n",
      "Saving: D:/Calibrations/Darks_2-6-2023/dark_HighGain_1x1_1024s__19.fts\n",
      "Saving: D:/Calibrations/Darks_2-6-2023/dark_HighGain_1x1_1024s__20.fts\n",
      "Saving: D:/Calibrations/Darks_2-6-2023/dark_HighGain_1x1_1024s__21.fts\n",
      "Saving: D:/Calibrations/Darks_2-6-2023/dark_HighGain_1x1_1024s__22.fts\n",
      "Saving: D:/Calibrations/Darks_2-6-2023/dark_HighGain_1x1_1024s__23.fts\n",
      "Saving: D:/Calibrations/Darks_2-6-2023/dark_HighGain_1x1_1024s__24.fts\n",
      "Saving: D:/Calibrations/Darks_2-6-2023/dark_HighGainStackPro_1x1_1024s__13.fts\n",
      "Saving: D:/Calibrations/Darks_2-6-2023/dark_HighGainStackPro_1x1_1024s__14.fts\n",
      "Saving: D:/Calibrations/Darks_2-6-2023/dark_HighGainStackPro_1x1_1024s__15.fts\n",
      "Saving: D:/Calibrations/Darks_2-6-2023/dark_HighGainStackPro_1x1_1024s__16.fts\n",
      "Saving: D:/Calibrations/Darks_2-6-2023/dark_HighGainStackPro_1x1_1024s__17.fts\n",
      "Saving: D:/Calibrations/Darks_2-6-2023/dark_HighGainStackPro_1x1_1024s__18.fts\n",
      "Saving: D:/Calibrations/Darks_2-6-2023/dark_HighGainStackPro_1x1_1024s__19.fts\n",
      "Saving: D:/Calibrations/Darks_2-6-2023/dark_HighGainStackPro_1x1_1024s__20.fts\n",
      "Saving: D:/Calibrations/Darks_2-6-2023/dark_HighGainStackPro_1x1_1024s__21.fts\n",
      "Saving: D:/Calibrations/Darks_2-6-2023/dark_HighGainStackPro_1x1_1024s__22.fts\n",
      "Saving: D:/Calibrations/Darks_2-6-2023/dark_HighGainStackPro_1x1_1024s__23.fts\n",
      "Saving: D:/Calibrations/Darks_2-6-2023/dark_HighGainStackPro_1x1_1024s__24.fts\n"
     ]
    },
    {
     "data": {
      "text/plain": [
       "\"print('Turning off lights')\\npulsar_dimmer.dimmer(0)\\nprint('Lights off')\\n\\nprint('Homing')\\nmount.FindHome\\nmount.Tracking = False\\nprint('Home found')\""
      ]
     },
     "execution_count": 5,
     "metadata": {},
     "output_type": "execute_result"
    }
   ],
   "source": [
    "for fil in filLoop:\n",
    "    for shutter in light:\n",
    "        for binning in binLoop:\n",
    "            camera.BinX = binning\n",
    "            for readout in readoutLoop:\n",
    "                camera.ReadoutMode = readout\n",
    "                for exp in exposureLoop:\n",
    "                    for i in range(repeat):\n",
    "                        while camera.Temperature > -19:\n",
    "                            print('Waiting for temperature cooldown...')\n",
    "                            time.sleep(10)\n",
    "                        camera.Expose(exp, shutter, fil)\n",
    "                        if shutter == 0:\n",
    "                            savestring = save_loc + (im_type[shutter]+'_'+\n",
    "                                         camera.ReadoutModes[readout].replace(' ', '')+'_'+\n",
    "                                         str(binning)+'x'+str(binning)+'_'+\n",
    "                                         # camera.Filternames[fil]+'_'+\n",
    "                                         str(exp).replace('.', '')+'s__'+\n",
    "                                         str(i+13)+'.fts')\n",
    "                        else: \n",
    "                            name = 'Flat_%03d%s.fits' % (i+1, camera.Filternames[fil])\n",
    "                            savestring = save_loc + name\n",
    "                        while not camera.ImageReady:\n",
    "                            time.sleep(0.1)\n",
    "                        print('Saving: %s' % savestring)\n",
    "                        camera.SaveImage(savestring)\n",
    "\n",
    "'''print('Turning off lights')\n",
    "pulsar_dimmer.dimmer(0)\n",
    "print('Lights off')\n",
    "\n",
    "print('Homing')\n",
    "mount.FindHome\n",
    "mount.Tracking = False\n",
    "print('Home found')'''"
   ]
  },
  {
   "cell_type": "code",
   "execution_count": null,
   "id": "274ab26b",
   "metadata": {},
   "outputs": [],
   "source": []
  }
 ],
 "metadata": {
  "kernelspec": {
   "display_name": "base",
   "language": "python",
   "name": "python3"
  },
  "language_info": {
   "codemirror_mode": {
    "name": "ipython",
    "version": 3
   },
   "file_extension": ".py",
   "mimetype": "text/x-python",
   "name": "python",
   "nbconvert_exporter": "python",
   "pygments_lexer": "ipython3",
   "version": "3.10.6"
  },
  "vscode": {
   "interpreter": {
    "hash": "aeab614228c9c50e6dff8d3934f938ee9a9784ab364a776ce5c4cfe6843a8b17"
   }
  }
 },
 "nbformat": 4,
 "nbformat_minor": 5
}
